{
 "cells": [
  {
   "cell_type": "markdown",
   "metadata": {},
   "source": [
    "## Must do\n"
   ]
  },
  {
   "cell_type": "code",
   "execution_count": 1,
   "metadata": {},
   "outputs": [],
   "source": [
    "import pandas as pd\n",
    "import numpy as np\n",
    "import AD_utils\n",
    "import seaborn as sns\n",
    "import matplotlib.pyplot as plt"
   ]
  },
  {
   "cell_type": "code",
   "execution_count": 2,
   "metadata": {},
   "outputs": [
    {
     "data": {
      "text/html": [
       "<div>\n",
       "<style scoped>\n",
       "    .dataframe tbody tr th:only-of-type {\n",
       "        vertical-align: middle;\n",
       "    }\n",
       "\n",
       "    .dataframe tbody tr th {\n",
       "        vertical-align: top;\n",
       "    }\n",
       "\n",
       "    .dataframe thead th {\n",
       "        text-align: right;\n",
       "    }\n",
       "</style>\n",
       "<table border=\"1\" class=\"dataframe\">\n",
       "  <thead>\n",
       "    <tr style=\"text-align: right;\">\n",
       "      <th></th>\n",
       "      <th>PUBCHEM_CID</th>\n",
       "      <th>Activity_outcome</th>\n",
       "      <th>Canonical_SMILES</th>\n",
       "    </tr>\n",
       "  </thead>\n",
       "  <tbody>\n",
       "    <tr>\n",
       "      <th>0</th>\n",
       "      <td>49790754</td>\n",
       "      <td>1</td>\n",
       "      <td>CC1=C(C=CC(=C1)OC)C2=C3C=COC3=C(C=C2)C(=O)NCC4...</td>\n",
       "    </tr>\n",
       "    <tr>\n",
       "      <th>1</th>\n",
       "      <td>3580213</td>\n",
       "      <td>1</td>\n",
       "      <td>C1=C(C2=C(N=CN=C2N1C3C(C(C(O3)CO)O)O)N)C(=S)N</td>\n",
       "    </tr>\n",
       "    <tr>\n",
       "      <th>2</th>\n",
       "      <td>575908</td>\n",
       "      <td>0</td>\n",
       "      <td>C1=CC=C(C=C1)N2C(=NN=N2)SC3=C(C=C(C=C3)[N+](=O...</td>\n",
       "    </tr>\n",
       "    <tr>\n",
       "      <th>3</th>\n",
       "      <td>15055241</td>\n",
       "      <td>1</td>\n",
       "      <td>CC1(CC(=CC(=[N+]2CCCCC2)C1)N3CCCCC3)C.[I-]</td>\n",
       "    </tr>\n",
       "    <tr>\n",
       "      <th>4</th>\n",
       "      <td>373978</td>\n",
       "      <td>1</td>\n",
       "      <td>C1=C2C(=C(S1)C3C(C(C(O3)CO)O)O)N=CN=C2N</td>\n",
       "    </tr>\n",
       "    <tr>\n",
       "      <th>...</th>\n",
       "      <td>...</td>\n",
       "      <td>...</td>\n",
       "      <td>...</td>\n",
       "    </tr>\n",
       "    <tr>\n",
       "      <th>1467</th>\n",
       "      <td>42628600</td>\n",
       "      <td>1</td>\n",
       "      <td>CC1C(CC2CC(NC3=NCC1N23)C(C4=CC(=O)NC(=O)N4)O)O...</td>\n",
       "    </tr>\n",
       "    <tr>\n",
       "      <th>1468</th>\n",
       "      <td>327045</td>\n",
       "      <td>1</td>\n",
       "      <td>C1CCN(C1)CCN2C(=O)C3=CC=CC4=CC(=CC(=C43)C2=O)[...</td>\n",
       "    </tr>\n",
       "    <tr>\n",
       "      <th>1469</th>\n",
       "      <td>1307598</td>\n",
       "      <td>0</td>\n",
       "      <td>C1COCCN1CCNC2=C3C=NN(C3=NC=N2)C4=CC=C(C=C4)Cl</td>\n",
       "    </tr>\n",
       "    <tr>\n",
       "      <th>1470</th>\n",
       "      <td>44825859</td>\n",
       "      <td>1</td>\n",
       "      <td>C1C2=CN=NN2C3=CC=CC=C3C(N1CC4=CC(=CC(=C4)Cl)Cl...</td>\n",
       "    </tr>\n",
       "    <tr>\n",
       "      <th>1471</th>\n",
       "      <td>72402</td>\n",
       "      <td>1</td>\n",
       "      <td>CCC1(C2=C(COC1=O)C(=O)N3CC4=CC5=C(C=CC=C5N=C4C...</td>\n",
       "    </tr>\n",
       "  </tbody>\n",
       "</table>\n",
       "<p>1472 rows × 3 columns</p>\n",
       "</div>"
      ],
      "text/plain": [
       "      PUBCHEM_CID  Activity_outcome  \\\n",
       "0        49790754                 1   \n",
       "1         3580213                 1   \n",
       "2          575908                 0   \n",
       "3        15055241                 1   \n",
       "4          373978                 1   \n",
       "...           ...               ...   \n",
       "1467     42628600                 1   \n",
       "1468       327045                 1   \n",
       "1469      1307598                 0   \n",
       "1470     44825859                 1   \n",
       "1471        72402                 1   \n",
       "\n",
       "                                       Canonical_SMILES  \n",
       "0     CC1=C(C=CC(=C1)OC)C2=C3C=COC3=C(C=C2)C(=O)NCC4...  \n",
       "1         C1=C(C2=C(N=CN=C2N1C3C(C(C(O3)CO)O)O)N)C(=S)N  \n",
       "2     C1=CC=C(C=C1)N2C(=NN=N2)SC3=C(C=C(C=C3)[N+](=O...  \n",
       "3            CC1(CC(=CC(=[N+]2CCCCC2)C1)N3CCCCC3)C.[I-]  \n",
       "4               C1=C2C(=C(S1)C3C(C(C(O3)CO)O)O)N=CN=C2N  \n",
       "...                                                 ...  \n",
       "1467  CC1C(CC2CC(NC3=NCC1N23)C(C4=CC(=O)NC(=O)N4)O)O...  \n",
       "1468  C1CCN(C1)CCN2C(=O)C3=CC=CC4=CC(=CC(=C43)C2=O)[...  \n",
       "1469      C1COCCN1CCNC2=C3C=NN(C3=NC=N2)C4=CC=C(C=C4)Cl  \n",
       "1470  C1C2=CN=NN2C3=CC=CC=C3C(N1CC4=CC(=CC(=C4)Cl)Cl...  \n",
       "1471  CCC1(C2=C(COC1=O)C(=O)N3CC4=CC5=C(C=CC=C5N=C4C...  \n",
       "\n",
       "[1472 rows x 3 columns]"
      ]
     },
     "execution_count": 2,
     "metadata": {},
     "output_type": "execute_result"
    }
   ],
   "source": [
    "#importing train datatset\n",
    "\n",
    "train_data = pd.read_csv('tests_dataset/Final_train_dataset.csv')\n",
    "test_data = pd.read_csv('tests_dataset/Final_test_dataset.csv')\n",
    "\n",
    "smiles_test = test_data['Canonical_SMILES'].to_list()\n",
    "smiles_train = train_data['Canonical_SMILES'].to_list()\n",
    "activity = test_data['Activity_outcome'].to_list()\n",
    "activity_train = train_data['Activity_outcome'].to_list()\n",
    "train_data"
   ]
  },
  {
   "cell_type": "code",
   "execution_count": 3,
   "metadata": {},
   "outputs": [],
   "source": [
    "from AD_analysis import AD\n",
    "\n",
    "ad = AD(smiles_train)"
   ]
  },
  {
   "cell_type": "code",
   "execution_count": 4,
   "metadata": {},
   "outputs": [],
   "source": [
    "import pickle\n",
    "\n",
    "with open('rfc_pipeline.pkl', 'rb') as file:\n",
    "   rfc_model = pickle.load(file)"
   ]
  },
  {
   "cell_type": "markdown",
   "metadata": {},
   "source": [
    "## Optional"
   ]
  },
  {
   "cell_type": "markdown",
   "metadata": {},
   "source": [
    "### ERROR: model does not take all inputs, you would have to filter"
   ]
  },
  {
   "cell_type": "code",
   "execution_count": 6,
   "metadata": {},
   "outputs": [
    {
     "name": "stdout",
     "output_type": "stream",
     "text": [
      "accuracy:  1 ,  threshold:  0.0 ,  percentage:  0\n",
      "accuracy:  1 ,  threshold:  0.05 ,  percentage:  0\n",
      "accuracy:  1 ,  threshold:  0.1 ,  percentage:  0\n",
      "accuracy:  1 ,  threshold:  0.15 ,  percentage:  0\n",
      "accuracy:  1.0 ,  threshold:  0.2 ,  percentage:  0.0\n",
      "accuracy:  1.0 ,  threshold:  0.25 ,  percentage:  0.0\n",
      "accuracy:  0.9 ,  threshold:  0.3 ,  percentage:  0.02\n",
      "accuracy:  0.96 ,  threshold:  0.35 ,  percentage:  0.04\n",
      "accuracy:  0.98 ,  threshold:  0.4 ,  percentage:  0.09\n",
      "accuracy:  0.98 ,  threshold:  0.45 ,  percentage:  0.13\n",
      "accuracy:  0.96 ,  threshold:  0.5 ,  percentage:  0.22\n",
      "accuracy:  0.95 ,  threshold:  0.55 ,  percentage:  0.36\n",
      "accuracy:  0.91 ,  threshold:  0.6 ,  percentage:  0.52\n",
      "accuracy:  0.9 ,  threshold:  0.65 ,  percentage:  0.65\n",
      "accuracy:  0.86 ,  threshold:  0.7 ,  percentage:  0.79\n",
      "accuracy:  0.81 ,  threshold:  0.75 ,  percentage:  0.92\n",
      "accuracy:  0.79 ,  threshold:  0.8 ,  percentage:  0.99\n",
      "accuracy:  0.79 ,  threshold:  0.85 ,  percentage:  1.0\n",
      "accuracy:  0.79 ,  threshold:  0.9 ,  percentage:  1.0\n",
      "accuracy:  0.79 ,  threshold:  0.95 ,  percentage:  1.0\n",
      "accuracy:  0.79 ,  threshold:  1.0 ,  percentage:  1.0\n"
     ]
    },
    {
     "data": {
      "image/png": "[encoded data removed]",
      "text/plain": [
       "<Figure size 640x480 with 1 Axes>"
      ]
     },
     "metadata": {},
     "output_type": "display_data"
    }
   ],
   "source": [
    "accuracy, threshold = ad.accuracy_v_coverage(smiles_test, activity, rfc_model, k=5, percentage=False)"
   ]
  },
  {
   "cell_type": "markdown",
   "metadata": {},
   "source": [
    "## the rest"
   ]
  },
  {
   "cell_type": "code",
   "execution_count": null,
   "metadata": {},
   "outputs": [],
   "source": [
    "filter_map, filtered_test, filtered_true_pred  = ad.accuracy_v_coverage(smiles_test, y_true=activity)"
   ]
  }
 ],
 "metadata": {
  "kernelspec": {
   "display_name": "Python 3",
   "language": "python",
   "name": "python3"
  },
  "language_info": {
   "codemirror_mode": {
    "name": "ipython",
    "version": 3
   },
   "file_extension": ".py",
   "mimetype": "text/x-python",
   "name": "python",
   "nbconvert_exporter": "python",
   "pygments_lexer": "ipython3",
   "version": "3.12.0"
  }
 },
 "nbformat": 4,
 "nbformat_minor": 2
}
